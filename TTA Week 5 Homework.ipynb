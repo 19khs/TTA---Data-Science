{
 "cells": [
  {
   "cell_type": "code",
   "execution_count": null,
   "metadata": {},
   "outputs": [],
   "source": [
    "#Lesson task 1 - Creating a CSV file\n",
    "\n",
    "import pandas as pd\n",
    "\n",
    "dest = {\"Destinations\": [\"Chile\", \"Mexico\", \"Belize\", \"Argentina\", \"Spain\", \"France\", \"Germany\", \"USA\", \"Canada\", \"Norway\", \"Denmark\", \"Colombia\", \"Sri Lanka\", \"India\", \"Ghana\"]}\n",
    "\n",
    "df_dest = pd.DataFrame(dest)\n",
    "\n",
    "print(df_dest)\n",
    "\n",
    "dest_csv = open(\"dest_csv.csv\",\"w\")\n",
    "df_dest.to_csv(\"dest_csv.csv\", mode='a', index=False, header=False)\n",
    "dest_csv.close(\"\"\n",
    "\n"
   ]
  },
  {
   "cell_type": "code",
   "execution_count": null,
   "metadata": {},
   "outputs": [],
   "source": [
    "#Lesson task 2 - Add in a column\n",
    "\n",
    "import pandas as pd\n",
    "\n",
    "dest = {\"Destinations\": [\"Chile\", \"Mexico\", \"Belize\", \"Argentina\", \"Spain\", \"France\", \"Germany\", \"USA\", \"Canada\", \"Norway\", \"Denmark\", \"Colombia\", \"Sri Lanka\", \"India\", \"Ghana\"],\n",
    "        \"Score_out_of_10\": [\"7\", \"2\", \"3\", \"8\", \"10\", \"7\", \"6\", \"9\", \"4\", \"10\", \"4\", \"7\", \"9\", \"5\", \"9\"]}\n",
    "\n",
    "df_dest = pd.DataFrame(dest)\n",
    "\n",
    "print(df_dest)\n",
    "\n",
    "dest_csv = open(\"dest_csv.csv\",\"w\")\n",
    "df_dest.to_csv(\"dest_csv.csv\", mode='a', index=False, header=False)\n",
    "dest_csv.close()\n"
   ]
  },
  {
   "cell_type": "code",
   "execution_count": null,
   "metadata": {},
   "outputs": [],
   "source": [
    "#Lesson task 3 - Add in a 2nd column\n",
    "\n",
    "import pandas as pd\n",
    "\n",
    "dest = {\"Destinations\": [\"Chile\", \"Mexico\", \"Belize\", \"Argentina\", \"Spain\", \"France\", \"Germany\", \"USA\", \"Canada\", \"Norway\", \"Denmark\", \"Colombia\", \"Sri Lanka\", \"India\", \"Ghana\"],\n",
    "        \"Score_out_of_10\": [\"7\", \"2\", \"3\", \"8\", \"10\", \"7\", \"6\", \"9\", \"4\", \"10\", \"4\", \"7\", \"9\", \"5\", \"9\"],\n",
    "        \"Average_Hotel_Stars\": [\"5\", \"1\", \"4\", \"2\", \"5\", \"5\", \"3\", \"4\", \"4\", \"3\", \"2\", \"4\", \"1\", \"2\", \"5\"]}\n",
    "\n",
    "df_dest = pd.DataFrame(dest)\n",
    "\n",
    "print(df_dest)\n",
    "\n",
    "dest_csv = open(\"dest_csv.csv\",\"w\")\n",
    "df_dest.to_csv(\"dest_csv.csv\", mode='a', index=False, header=False)\n",
    "dest_csv.close()"
   ]
  },
  {
   "cell_type": "code",
   "execution_count": null,
   "metadata": {},
   "outputs": [],
   "source": [
    "#Lesson task 4 - Add in a 3rd column\n",
    "\n",
    "import pandas as pd\n",
    "\n",
    "dest = {\"Destinations\": [\"Chile\", \"Mexico\", \"Belize\", \"Argentina\", \"Spain\", \"France\", \"Germany\", \"USA\", \"Canada\", \"Norway\", \"Denmark\", \"Colombia\", \"Sri Lanka\", \"India\", \"Ghana\"],\n",
    "        \"Score out of 10\": [\"7\", \"2\", \"3\", \"8\", \"10\", \"7\", \"6\", \"9\", \"4\", \"10\", \"4\", \"7\", \"9\", \"5\", \"9\"],\n",
    "        \"Average Hotel Stars\": [\"5\", \"1\", \"4\", \"2\", \"5\", \"5\", \"3\", \"4\", \"4\", \"3\", \"2\", \"4\", \"1\", \"2\", \"5\"],\n",
    "        \"No of all inclusive\": [\"1000\", \"2510\", \"9141\", \"3009\", \"4678\", \"9077\", \"4642\", \"4562\", \"1324\", \"1283\", \"2312\", \"6972\", \"1642\", \"1543\", \"0998\"]}\n",
    "\n",
    "df_dest = pd.DataFrame(dest)\n",
    "\n",
    "print(df_dest)\n",
    "\n",
    "dest_csv = open(\"dest_csv.csv\",\"w\")\n",
    "df_dest.to_csv(\"dest_csv.csv\", mode='a', index=False, header=False)\n",
    "dest_csv.close()"
   ]
  },
  {
   "cell_type": "code",
   "execution_count": null,
   "metadata": {},
   "outputs": [],
   "source": [
    "#Lesson task 4 - Add in a 4th column\n",
    "\n",
    "import pandas as pd\n",
    "\n",
    "dest = {\"Destinations\": [\"Chile\", \"Mexico\", \"Belize\", \"Argentina\", \"Spain\", \"France\", \"Germany\", \"USA\", \"Canada\", \"Norway\", \"Denmark\", \"Colombia\", \"Sri Lanka\", \"India\", \"Ghana\"],\n",
    "        \"Score_out_of_10\": [\"7\", \"2\", \"3\", \"8\", \"10\", \"7\", \"6\", \"9\", \"4\", \"10\", \"4\", \"7\", \"9\", \"5\", \"9\"],\n",
    "        \"Average_Hotel_Stars\": [\"5\", \"1\", \"4\", \"2\", \"5\", \"5\", \"3\", \"4\", \"4\", \"3\", \"2\", \"4\", \"1\", \"2\", \"5\"],\n",
    "        \"No_of_all_inclusive\": [\"1000\", \"2510\", \"9141\", \"3009\", \"4678\", \"9077\", \"4642\", \"4562\", \"1324\", \"1283\", \"2312\", \"6972\", \"1642\", \"1543\", \"0998\"],\n",
    "        \"Most_visited_city\": [\"Santiago\", \"Mexico City\", \"Belize City\", \"Buenos Aires\", \"Madrid\", \"Paris\", \"Berlin\", \"New York\", \"Toronto\", \"Oslo\", \"Copenhagen\", \"Medellin\", \"Colombo\", \"Dheli\", \"Accra\"]}\n",
    "\n",
    "df_dest = pd.DataFrame(dest)\n",
    "\n",
    "print(df_dest)\n",
    "\n",
    "dest_csv = open(\"dest_csv.csv\",\"w\")\n",
    "df_dest.to_csv(\"dest_csv.csv\", mode='a', index=False, header=1)\n",
    "dest_csv.close()"
   ]
  },
  {
   "cell_type": "code",
   "execution_count": null,
   "metadata": {},
   "outputs": [],
   "source": [
    "#Home task 1 - read number of columns and rows\n",
    "\n",
    "import pandas as pd\n",
    "\n",
    "data = pd.read_csv(\"dest_csv.csv\")\n",
    "\n",
    "data.shape\n",
    "#data.head()"
   ]
  },
  {
   "cell_type": "code",
   "execution_count": null,
   "metadata": {},
   "outputs": [],
   "source": [
    "#Homet task 2 - print row 3 - 8\n",
    "\n",
    "import pandas as pd\n",
    "\n",
    "data = pd.read_csv(\"dest_csv.csv\")\n",
    "#data.head(3,8) this would never work as you hop in this instance, instead this will always print from row 0 onwards. you cannot split the rows.\n",
    "print(data.iloc[3:9])\n"
   ]
  },
  {
   "cell_type": "code",
   "execution_count": null,
   "metadata": {},
   "outputs": [],
   "source": [
    "#Home task 3 - find the mean number of all-inclusive hotels across all destinations. \n",
    "\n",
    "import pandas as pd\n",
    "\n",
    "data = pd.read_csv(\"dest_csv.csv\")\n",
    "menu_data = data.mean()\n",
    "print(menu_data)\n"
   ]
  },
  {
   "cell_type": "code",
   "execution_count": null,
   "metadata": {},
   "outputs": [],
   "source": [
    "#Home task 4 - Find the lowest scoring destination.\n",
    "\n",
    "import pandas as pd\n",
    "\n",
    "data = pd.read_csv(\"dest_csv.csv\")\n",
    "min_data = data.min()\n",
    "print(min_data)"
   ]
  },
  {
   "cell_type": "code",
   "execution_count": null,
   "metadata": {},
   "outputs": [],
   "source": [
    "#Task 5 -  Find the highest scoring destination.\n",
    "\n",
    "import pandas as pd\n",
    "\n",
    "data = pd.read_csv(\"dest_csv.csv\")\n",
    "max_data = data.max()\n",
    "print(max_data)\n"
   ]
  },
  {
   "cell_type": "code",
   "execution_count": null,
   "metadata": {},
   "outputs": [],
   "source": [
    "#Task 6 - Find all the destinations where there are more than 9 all-inclusive hotels. \n",
    "\n",
    "import pandas as pd\n",
    "\n",
    "data = pd.read_csv(\"dest_csv.csv\")\n",
    "#data.loc[0:,\"No_of_all_inclusive\"] #this loc combination gives the single column for all rows.\n",
    "#data.loc[3:,\"No of all inclusive\"] #this loc combination givs the single columbn for all rows from index 3\n",
    "#data.loc[3,:] #Ths loc combination gives all columnss for all rows from index 3\n",
    "#data.loc[3,:\"No of all inclusive\"] #this loc combination gives the single column for the single row index 3\n",
    "#data.loc[0:,\"Destinations\":\"No of all inclusive\"] #this loc combination will give you the column range, with all rows\n",
    "data.loc[data.No_of_all_inclusive > 9] #this is showing me the number of lines against the all inclusive column above 9\n",
    "\n",
    "\n",
    "\n"
   ]
  },
  {
   "cell_type": "code",
   "execution_count": null,
   "metadata": {},
   "outputs": [],
   "source": [
    "#Task 7 - Filter the data by score above 8.  \n",
    "\n",
    "import pandas as pd\n",
    "\n",
    "data.loc[data.Score_out_of_10 > 8]"
   ]
  },
  {
   "cell_type": "code",
   "execution_count": null,
   "metadata": {},
   "outputs": [],
   "source": [
    "#Task 8 - Filter the data score below 2 ( I need to know if these destinations should be removed or there is a problem)\n",
    "\n",
    "import pandas as pd\n",
    "\n",
    "data.loc[data.Score_out_of_10 < 2]"
   ]
  }
 ],
 "metadata": {
  "interpreter": {
   "hash": "aee8b7b246df8f9039afb4144a1f6fd8d2ca17a180786b69acc140d282b71a49"
  },
  "kernelspec": {
   "display_name": "Python 3.9.7 64-bit",
   "language": "python",
   "name": "python3"
  },
  "language_info": {
   "codemirror_mode": {
    "name": "ipython",
    "version": 3
   },
   "file_extension": ".py",
   "mimetype": "text/x-python",
   "name": "python",
   "nbconvert_exporter": "python",
   "pygments_lexer": "ipython3",
   "version": "3.9.7"
  },
  "orig_nbformat": 4
 },
 "nbformat": 4,
 "nbformat_minor": 2
}
