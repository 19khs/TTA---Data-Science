{
 "cells": [
  {
   "cell_type": "code",
   "execution_count": null,
   "metadata": {},
   "outputs": [],
   "source": [
    "#TASK 1\n",
    "\n",
    "import random\n",
    "\n",
    "x = random.randint(1,10)\n",
    "\n",
    "user_name = input(\"Name: \")\n",
    "\n",
    "answer = input(\"I'm thinking of a number between 1 & 10, what's the number I'm thinking of?: \")\n",
    "answer_int = int(answer)\n",
    "\n",
    "while answer_int != x:\n",
    "    print(\"Ahh unfortunately that's not right. Try again!:\")\n",
    "    \n",
    "    answer = input(\"I'm thinking of a number between 1 & 10, what's the number I'm thinking of?: \")\n",
    "    answer_int = int(answer)\n",
    "\n",
    "\n",
    "else:\n",
    "    print(\"That's correct! You are clever!\")\n"
   ]
  },
  {
   "cell_type": "code",
   "execution_count": null,
   "metadata": {},
   "outputs": [],
   "source": [
    "#TASK 2\n",
    "\n",
    "import time\n",
    "\n",
    "answer = input(\"What's your favourite number between 1 & 100?: \")\n",
    "answer_int = int(answer)\n",
    "\n",
    "joke_1 = \"What's left after an explosion at a french cheese factory?....\"\n",
    "joke_2 = \"What did the Python say when it was born?...\"\n",
    "joke_3 = \"What does a Snowman eat for breakfast?....\"\n",
    "\n",
    "if answer_int in range(1,33):\n",
    "    print(joke_1)\n",
    "    time.sleep(2)\n",
    "    print(\"DeBrie\")\n",
    "    \n",
    "elif answer_int in range(34,67):\n",
    "    print(joke_2)\n",
    "    time.sleep(2)\n",
    "    print(\"Hello World!\")\n",
    "\n",
    "elif answer_int in range(68,101):\n",
    "    print(joke_3)\n",
    "    time.sleep(2)\n",
    "    print(\"Snow flakes\")\n",
    "\n",
    "else:\n",
    "        print(\"There seems to be some sort of error. Please rerun this program.\")"
   ]
  },
  {
   "cell_type": "code",
   "execution_count": null,
   "metadata": {},
   "outputs": [],
   "source": [
    "#TASK 3\n",
    "\n",
    "\n",
    "print(\"What's your favourite...\")\n",
    "\n",
    "starter = input(\"Starter: \")\n",
    "main = input(\"Main: \")\n",
    "dessert = input(\"Dessert: \")\n",
    "drink = input(\"Drink: \")\n",
    "\n",
    "print(f\"Your favourite meal is {starter}, {main} and {dessert} with a glass of {drink}\")"
   ]
  },
  {
   "cell_type": "code",
   "execution_count": null,
   "metadata": {},
   "outputs": [],
   "source": [
    "#TASK 4\n",
    "\n",
    "price = 2000.00\n",
    "year = 0\n",
    "\n",
    "print(\"Cost of motorbike\")\n",
    "print(f\"Year 0 = £{price}\")\n",
    "\n",
    "while price >= 1000:\n",
    "    year = year + 1\n",
    "    price = price - (price * 0.1)\n",
    "    print(f\"Year {year} = £{price}\")"
   ]
  },
  {
   "cell_type": "code",
   "execution_count": null,
   "metadata": {},
   "outputs": [],
   "source": [
    "#TASK 5\n",
    "\n",
    "print(\"Basic calculator\")\n",
    "\n",
    "o1 = \"+\"\n",
    "o2 = \"-\"\n",
    "o3 = \"/\"\n",
    "o4 = \"*\"\n",
    "o5 = \"**\"\n",
    "\n",
    "print(\"Avaible operators to choose from\")\n",
    "print(o1, \"Add\")\n",
    "print(o2, \"Minus\")\n",
    "print(o3, \"Divide\")\n",
    "print(o4, \"Multiply\")\n",
    "print(o5, \"To the power of\")\n",
    "\n",
    "a1 = input(\"Number choice 1: \")\n",
    "a1 = int(a1)\n",
    "o_choice = input(\"Operator choice: \")\n",
    "a2 = input(\"Number choice 2: \")\n",
    "a2 = int(a2)\n",
    "\n",
    "if o_choice == o1:\n",
    "    print(\"Answer:\", a1 + a2)\n",
    "elif o_choice == o2:\n",
    "    print(\"Answer:\", a1 - a2)\n",
    "elif o_choice == o3:\n",
    "    print(\"Answer:\", a1 / a2)\n",
    "elif o_choice == o4:\n",
    "    print(\"Answer:\", a1 * a2)\n",
    "elif o_choice == o5:\n",
    "    print(\"Answer:\", a1 ** a2)\n",
    "\n",
    "else:\n",
    "    print(\"It appears there has been an error. Please rerun this program.\")\n"
   ]
  }
 ],
 "metadata": {
  "interpreter": {
   "hash": "aee8b7b246df8f9039afb4144a1f6fd8d2ca17a180786b69acc140d282b71a49"
  },
  "kernelspec": {
   "display_name": "Python 3.9.7 64-bit",
   "language": "python",
   "name": "python3"
  },
  "language_info": {
   "codemirror_mode": {
    "name": "ipython",
    "version": 3
   },
   "file_extension": ".py",
   "mimetype": "text/x-python",
   "name": "python",
   "nbconvert_exporter": "python",
   "pygments_lexer": "ipython3",
   "version": "3.9.7"
  },
  "orig_nbformat": 4
 },
 "nbformat": 4,
 "nbformat_minor": 2
}
